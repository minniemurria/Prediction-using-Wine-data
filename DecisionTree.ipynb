{
 "cells": [
  {
   "cell_type": "markdown",
   "id": "46e55a0a",
   "metadata": {},
   "source": [
    "# Decision Tree Lab: Building our First Decision Tree"
   ]
  },
  {
   "cell_type": "code",
   "execution_count": 223,
   "id": "c258bdc3",
   "metadata": {},
   "outputs": [],
   "source": [
    "# We will build a Decision Tree Classifier\n",
    "# The dataset we will be working with contains information about\n",
    "# -number of wine from portugal\n",
    "# -along with the rating for the quality of wine lying between 1 to 10\n",
    "\n",
    "# The model need to be able to predict the score for the wine quality given all the other features in the dataset"
   ]
  },
  {
   "cell_type": "code",
   "execution_count": 224,
   "id": "55b1eb69",
   "metadata": {},
   "outputs": [],
   "source": [
    "# importing the libraries\n",
    "import pandas as pd\n",
    "import numpy as np"
   ]
  },
  {
   "cell_type": "code",
   "execution_count": 225,
   "id": "33e7ff76",
   "metadata": {},
   "outputs": [
    {
     "data": {
      "text/html": [
       "<div>\n",
       "<style scoped>\n",
       "    .dataframe tbody tr th:only-of-type {\n",
       "        vertical-align: middle;\n",
       "    }\n",
       "\n",
       "    .dataframe tbody tr th {\n",
       "        vertical-align: top;\n",
       "    }\n",
       "\n",
       "    .dataframe thead th {\n",
       "        text-align: right;\n",
       "    }\n",
       "</style>\n",
       "<table border=\"1\" class=\"dataframe\">\n",
       "  <thead>\n",
       "    <tr style=\"text-align: right;\">\n",
       "      <th></th>\n",
       "      <th>Fixed Acidity</th>\n",
       "      <th>Volatile Acidity</th>\n",
       "      <th>Citric Acid</th>\n",
       "      <th>Residual Sugar</th>\n",
       "      <th>Chlorides</th>\n",
       "      <th>Free Sulfur Dioxide</th>\n",
       "      <th>Total Sulfur Dioxide</th>\n",
       "      <th>Density</th>\n",
       "      <th>pH</th>\n",
       "      <th>Sulphates</th>\n",
       "      <th>Alcohol</th>\n",
       "      <th>Quality</th>\n",
       "    </tr>\n",
       "  </thead>\n",
       "  <tbody>\n",
       "    <tr>\n",
       "      <th>0</th>\n",
       "      <td>7.0</td>\n",
       "      <td>0.27</td>\n",
       "      <td>0.36</td>\n",
       "      <td>20.7</td>\n",
       "      <td>0.045</td>\n",
       "      <td>45.0</td>\n",
       "      <td>170.0</td>\n",
       "      <td>1.0010</td>\n",
       "      <td>3.00</td>\n",
       "      <td>0.45</td>\n",
       "      <td>8.8</td>\n",
       "      <td>6</td>\n",
       "    </tr>\n",
       "    <tr>\n",
       "      <th>1</th>\n",
       "      <td>6.3</td>\n",
       "      <td>0.30</td>\n",
       "      <td>0.34</td>\n",
       "      <td>1.6</td>\n",
       "      <td>0.049</td>\n",
       "      <td>14.0</td>\n",
       "      <td>132.0</td>\n",
       "      <td>0.9940</td>\n",
       "      <td>3.30</td>\n",
       "      <td>0.49</td>\n",
       "      <td>9.5</td>\n",
       "      <td>6</td>\n",
       "    </tr>\n",
       "    <tr>\n",
       "      <th>2</th>\n",
       "      <td>8.1</td>\n",
       "      <td>0.28</td>\n",
       "      <td>0.40</td>\n",
       "      <td>6.9</td>\n",
       "      <td>0.050</td>\n",
       "      <td>30.0</td>\n",
       "      <td>97.0</td>\n",
       "      <td>0.9951</td>\n",
       "      <td>3.26</td>\n",
       "      <td>0.44</td>\n",
       "      <td>10.1</td>\n",
       "      <td>6</td>\n",
       "    </tr>\n",
       "    <tr>\n",
       "      <th>3</th>\n",
       "      <td>7.2</td>\n",
       "      <td>0.23</td>\n",
       "      <td>0.32</td>\n",
       "      <td>8.5</td>\n",
       "      <td>0.058</td>\n",
       "      <td>47.0</td>\n",
       "      <td>186.0</td>\n",
       "      <td>0.9956</td>\n",
       "      <td>3.19</td>\n",
       "      <td>0.40</td>\n",
       "      <td>9.9</td>\n",
       "      <td>6</td>\n",
       "    </tr>\n",
       "    <tr>\n",
       "      <th>4</th>\n",
       "      <td>7.2</td>\n",
       "      <td>0.23</td>\n",
       "      <td>0.32</td>\n",
       "      <td>8.5</td>\n",
       "      <td>0.058</td>\n",
       "      <td>47.0</td>\n",
       "      <td>186.0</td>\n",
       "      <td>0.9956</td>\n",
       "      <td>3.19</td>\n",
       "      <td>0.40</td>\n",
       "      <td>9.9</td>\n",
       "      <td>6</td>\n",
       "    </tr>\n",
       "  </tbody>\n",
       "</table>\n",
       "</div>"
      ],
      "text/plain": [
       "   Fixed Acidity  Volatile Acidity  Citric Acid  Residual Sugar  Chlorides  \\\n",
       "0            7.0              0.27         0.36            20.7      0.045   \n",
       "1            6.3              0.30         0.34             1.6      0.049   \n",
       "2            8.1              0.28         0.40             6.9      0.050   \n",
       "3            7.2              0.23         0.32             8.5      0.058   \n",
       "4            7.2              0.23         0.32             8.5      0.058   \n",
       "\n",
       "   Free Sulfur Dioxide  Total Sulfur Dioxide  Density    pH  Sulphates  \\\n",
       "0                 45.0                 170.0   1.0010  3.00       0.45   \n",
       "1                 14.0                 132.0   0.9940  3.30       0.49   \n",
       "2                 30.0                  97.0   0.9951  3.26       0.44   \n",
       "3                 47.0                 186.0   0.9956  3.19       0.40   \n",
       "4                 47.0                 186.0   0.9956  3.19       0.40   \n",
       "\n",
       "   Alcohol  Quality  \n",
       "0      8.8        6  \n",
       "1      9.5        6  \n",
       "2     10.1        6  \n",
       "3      9.9        6  \n",
       "4      9.9        6  "
      ]
     },
     "execution_count": 225,
     "metadata": {},
     "output_type": "execute_result"
    }
   ],
   "source": [
    "# Loading the dataset from the csv file into a Pandas dataframe\n",
    "# winequality-white.csv file is placed in data sub-directory in the workspace\n",
    "\n",
    "# Even though the file comes with headers, we still specify the 'names for headers' so that they are in our desired format\n",
    "\n",
    "wine_data = pd.read_csv('data/winequality-white.csv',\n",
    "                       names=[\n",
    "            \"Fixed Acidity\", \"Volatile Acidity\", \"Citric Acid\", \"Residual Sugar\",\n",
    "            \"Chlorides\", \"Free Sulfur Dioxide\", \"Total Sulfur Dioxide\", \"Density\",\n",
    "            \"pH\", \"Sulphates\", \"Alcohol\", \"Quality\"],\n",
    "                       skiprows = 1,\n",
    "                       sep = r'\\s*;\\s*',\n",
    "                       engine = 'python')\n",
    "# The \"skiprows=1\" attribute says that the first row in the csv file can be skipped i.e. the one containing the confusing headers\n",
    "# The separator in this csv file is semicolon(;) and not a (,)\n",
    "# The passing engine is \"python\" here\n",
    "wine_data.head()"
   ]
  },
  {
   "cell_type": "code",
   "execution_count": 226,
   "id": "6cccbdd0",
   "metadata": {},
   "outputs": [
    {
     "data": {
      "image/png": "[encoded data removed]",
      "text/plain": [
       "<Figure size 504x504 with 2 Axes>"
      ]
     },
     "metadata": {
      "needs_background": "light"
     },
     "output_type": "display_data"
    }
   ],
   "source": [
    "# As all the data in this dataframe is already numeric, so no label encoding is required is required to convert non-numeric values to numerics\n",
    "\n",
    "# importing the matplotlib and seaborn libraries for plotting a correlation heatmap\n",
    "import matplotlib.pyplot as plt\n",
    "import seaborn as sns\n",
    "\n",
    "corrmat = wine_data.corr()\n",
    "f, ax = plt.subplots(figsize=(7,7))\n",
    "sns.heatmap(corrmat, vmax=.8, square=True, annot=True, fmt='.2f')\n",
    "plt.show()"
   ]
  },
  {
   "cell_type": "code",
   "execution_count": 227,
   "id": "b25cbf95",
   "metadata": {},
   "outputs": [],
   "source": [
    "# Here we can see how all the features correlate to each other in the heatmap\n",
    "# The Alcohol content is strongly correlated to the quality of wine\n",
    "# The Density of wine and residual sugar also quite correlated to the quality of wine\n",
    "\n",
    "# However while building our Decision tree classifier, We shall use all th available features\n",
    "# Now we will define x variable that includes all the available features(columns in the dataframe) except the 'Quality' of wine\n",
    "# We will also define y variable with just the labels i.e. 'Quality'\n",
    "\n",
    "x = wine_data.drop('Quality', axis=1)\n",
    "y = wine_data['Quality']"
   ]
  },
  {
   "cell_type": "code",
   "execution_count": 228,
   "id": "005efc25",
   "metadata": {},
   "outputs": [],
   "source": [
    "# Now we will use train_test_split function in order to split the dataset into a training component and a test component\n",
    "\n",
    "from sklearn.model_selection import train_test_split\n",
    "\n",
    "x_train, x_test, y_train, y_test = train_test_split(x, y, test_size=0.2, random_state=0)\n",
    "# test_size = 0.2 here specifies that 20% of the data will be used for testing"
   ]
  },
  {
   "cell_type": "code",
   "execution_count": 229,
   "id": "6761527e",
   "metadata": {},
   "outputs": [
    {
     "data": {
      "text/plain": [
       "DecisionTreeClassifier(criterion='entropy', max_depth=5, max_features=4)"
      ]
     },
     "execution_count": 229,
     "metadata": {},
     "output_type": "execute_result"
    }
   ],
   "source": [
    "# import the decision tree classifier from SciKit learn library\n",
    "from sklearn.tree import DecisionTreeClassifier\n",
    "\n",
    "# We will now decalre our model\n",
    "# But here we will not specify any parameters\n",
    "classifier = DecisionTreeClassifier(max_depth = 5, max_features = 4, criterion = 'entropy') \n",
    "# 1 note: The decision usually gets gignatic and then it takes longer time to open \n",
    "   # To simplify the decision tree, we will specify a max depth for the tree\n",
    "   # so we will specify a max_depth = 5 before the declaration of classifier\n",
    "# 2 Further Tweaking specifying max_features attribute in the classifier\n",
    "# 3 Further Tweaking again, specify the attribute (criterion = 'entropy') \n",
    "# Here we can now take our classifier object and see how does our model looks\n",
    "classifier"
   ]
  },
  {
   "cell_type": "code",
   "execution_count": 230,
   "id": "8e148f4b",
   "metadata": {},
   "outputs": [],
   "source": [
    "# A whole bunch of attributes of our model will be displayed\n",
    "# All of these are default values given that we havent specified any parameters\n",
    "# The splitting criterion for an attribute is the GINI impurity\n",
    "# This is because the DecisionTreeClassifier in SciKit learn uses the CART algorithm for decision tree learning"
   ]
  },
  {
   "cell_type": "code",
   "execution_count": 231,
   "id": "7ce0f3a0",
   "metadata": {},
   "outputs": [
    {
     "data": {
      "text/plain": [
       "DecisionTreeClassifier(criterion='entropy', max_depth=5, max_features=4)"
      ]
     },
     "execution_count": 231,
     "metadata": {},
     "output_type": "execute_result"
    }
   ],
   "source": [
    "# Training the model usig training data\n",
    "classifier.fit(x_train,y_train)"
   ]
  },
  {
   "cell_type": "code",
   "execution_count": 232,
   "id": "30cfc6a3",
   "metadata": {},
   "outputs": [
    {
     "name": "stdout",
     "output_type": "stream",
     "text": [
      "0.503061224489796\n"
     ]
    }
   ],
   "source": [
    "# Testing the accuracy of the model using testdata\n",
    "# Then print the accuracy score\n",
    "score = classifier.score(x_test, y_test)\n",
    "print(score)"
   ]
  },
  {
   "cell_type": "code",
   "execution_count": 233,
   "id": "416da00c",
   "metadata": {},
   "outputs": [],
   "source": [
    "# The accuracy is nearly around 58% (0.5775510204081633) which is quite good  \n",
    "# This is because in our dataset, there are 7 different values for the quality of wine & if our model is taking wild guesses, we couldnot get accuracy more than just 14%\n",
    "# note: 1 accuracy decreases to 51.1% (0.5112244897959184) after changing the max_depyh =5 for classifier\n",
    "# note: 2 The accuracy decreases a little again further to 50.0% (0.5)after tweaking (specifying max_depth = 4) in the classifier\n",
    "# note: 3 The accuracy against the test data decreases to 49.0% after specifying thr critrion=\"entropy\" i.e. maximizing the information gain"
   ]
  },
  {
   "cell_type": "markdown",
   "id": "1ccc5a41",
   "metadata": {},
   "source": [
    "# Decision Tree Lab: Viewing and Tweaking our Decision Tree"
   ]
  },
  {
   "cell_type": "code",
   "execution_count": 234,
   "id": "bd9296a5",
   "metadata": {},
   "outputs": [
    {
     "name": "stderr",
     "output_type": "stream",
     "text": [
      "c:\\users\\win7\\appdata\\local\\programs\\python\\python38\\lib\\site-packages\\sklearn\\utils\\deprecation.py:103: FutureWarning: The attribute `n_features_` is deprecated in 1.0 and will be removed in 1.2. Use `n_features_in_` instead.\n",
      "  warnings.warn(msg, category=FutureWarning)\n"
     ]
    },
    {
     "data": {
      "text/plain": [
       "11"
      ]
     },
     "execution_count": 234,
     "metadata": {},
     "output_type": "execute_result"
    }
   ],
   "source": [
    "# There are some attributes which we can view to understand how exactly our Decision Tree would works\n",
    "# .n_features_ can be used for viewing the number of features used in making the Decision Tree \n",
    "classifier.n_features_"
   ]
  },
  {
   "cell_type": "code",
   "execution_count": 235,
   "id": "69bcfb5b",
   "metadata": {},
   "outputs": [
    {
     "data": {
      "text/plain": [
       "11"
      ]
     },
     "execution_count": 235,
     "metadata": {},
     "output_type": "execute_result"
    }
   ],
   "source": [
    "classifier.n_features_in_"
   ]
  },
  {
   "cell_type": "code",
   "execution_count": 236,
   "id": "af2b5f57",
   "metadata": {},
   "outputs": [],
   "source": [
    "# Here we can see that our Decision Tree model has used all the avaiable 11 features"
   ]
  },
  {
   "cell_type": "code",
   "execution_count": 237,
   "id": "bb3f0c07",
   "metadata": {},
   "outputs": [
    {
     "data": {
      "text/plain": [
       "array([0.        , 0.16962959, 0.06271035, 0.04525862, 0.02123489,\n",
       "       0.09041625, 0.13269474, 0.01723659, 0.02133101, 0.01464203,\n",
       "       0.42484592])"
      ]
     },
     "execution_count": 237,
     "metadata": {},
     "output_type": "execute_result"
    }
   ],
   "source": [
    "# Viewing the importance of each of the features\n",
    "classifier.feature_importances_"
   ]
  },
  {
   "cell_type": "code",
   "execution_count": 238,
   "id": "73976715",
   "metadata": {},
   "outputs": [],
   "source": [
    "# The above array shows that the last feature which is probably the 'Alcohol content' is the most important feature out of all\n",
    "# We can view the Decision Tree of our model to see all the steps involved and how it actually arrived at a particular prediction\n",
    "\n",
    "# In order to visualise the Tree, we need to download the tool called graphviz # https://graphviz.gitlab.io/download/\n",
    "# pip install graphviz in cmd\n",
    "\n",
    "# Download the latest version of graphiz from site 'http'://www.graphviz.org/download/'\n",
    "# Run the installer>>Next>>I Agree(agree to the license agreement)>>select (add graphviz to the system path for all users) and click create graphviz desktop icon>>next>>select destination folder>>next>>install>>finish\n",
    "import sklearn.tree as tree\n",
    "tree.export_graphviz(classifier, out_file='tree.dot', feature_names=x.columns)\n",
    "\n",
    "# The above code can be used to output the decision tree into a file called tree.dot"
   ]
  },
  {
   "cell_type": "code",
   "execution_count": 239,
   "id": "0a95dc0e",
   "metadata": {},
   "outputs": [
    {
     "data": {
      "text/plain": [
       "0"
      ]
     },
     "execution_count": 239,
     "metadata": {},
     "output_type": "execute_result"
    }
   ],
   "source": [
    "# We will convert the file to tree.png file\n",
    "from subprocess import call\n",
    "\n",
    "call(['dot','-T' 'png','tree.dot','-o','tree.png'])\n",
    "# The above code creates the tree.png file in the same directory as the notebook\n",
    "# We will navigate to the directory and see the created tree.png file"
   ]
  },
  {
   "cell_type": "code",
   "execution_count": 240,
   "id": "53a87d2b",
   "metadata": {},
   "outputs": [],
   "source": [
    "# note: The decision usually gets gignatic and then it takes longer time to open \n",
    "# To simplify the decision tree, we will specify a max depth for the tree\n",
    "# so we will specify a max_depth = 5 before the declaration of classifier\n",
    "# changing maximum depth\n",
    "# we get a new decision tree model\n",
    "# However the accuracy of model decreases to 51.11% after specifying max_depth in the classifier"
   ]
  },
  {
   "cell_type": "code",
   "execution_count": 241,
   "id": "3a9e732a",
   "metadata": {},
   "outputs": [],
   "source": [
    "# However visulaising the Decision Tree becomes easier now\n",
    "# On Further looking deeper into the PNG file\n",
    "# Navigating to the root of tree, we can see that the dataset was first split into subsets based on the'Alcohol' content\n",
    "# Also the one of the subsets in right was further split again using the alcohol content\n",
    "# The next further splits were donr done using 'Free sulfur dioxide' feature \n",
    "# Navigating to the other parts of the tree we see that the 'Alcohol' content was frequently used to split the data"
   ]
  },
  {
   "cell_type": "code",
   "execution_count": 242,
   "id": "bbd870ec",
   "metadata": {},
   "outputs": [],
   "source": [
    "# Tweaking the parameters of our model\n",
    "# Let's set max_features attribute whic specifies the maximum number of features to consider each time the tree looks to split the data into subsets"
   ]
  },
  {
   "cell_type": "code",
   "execution_count": 243,
   "id": "42ec4edb",
   "metadata": {},
   "outputs": [],
   "source": [
    "# max_features = 4 in classifier\n",
    "# The accuracy of the new decision tree against the test data decreases a little again further to 50.0% (0.5) after tweaking (specifying max_depth = 4) in the classifier\n",
    "# The new tree is very different from the previous one\n",
    "# Infact the root of the tree now uses \"Volatile Acidity\" to split the data"
   ]
  },
  {
   "cell_type": "code",
   "execution_count": 244,
   "id": "0f0d9c94",
   "metadata": {},
   "outputs": [],
   "source": [
    "# Further tweaking the classifier again\n",
    "# We will specify the attribute (criterion = 'entropy') \n",
    "# As The SciKit learn uses the CART algorithm which uses 'gini impurity' as a measure when splitting the data into subsets\n",
    "# So how can we use 'information gain' instead of 'gini impurity' here?\n",
    "    #>>This is because the SciKit learn library uses a modified version of CART algorithm\n",
    "    #>>So we can specify that we want 'information gain' to be maximized at each split\n",
    "    \n",
    "# The accuracy against the test data decreases to 49.0% after specifying thr critrion=\"entropy\" i.e. maximizing the information gain\n",
    "# The root of the new Decision Tree is again 'Alcohol' content"
   ]
  }
 ],
 "metadata": {
  "kernelspec": {
   "display_name": "Python 3 (ipykernel)",
   "language": "python",
   "name": "python3"
  },
  "language_info": {
   "codemirror_mode": {
    "name": "ipython",
    "version": 3
   },
   "file_extension": ".py",
   "mimetype": "text/x-python",
   "name": "python",
   "nbconvert_exporter": "python",
   "pygments_lexer": "ipython3",
   "version": "3.10.2"
  }
 },
 "nbformat": 4,
 "nbformat_minor": 5
}
